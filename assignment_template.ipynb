{
 "cells": [
  {
   "cell_type": "markdown",
   "metadata": {},
   "source": [
    "Before you turn this problem in, make sure everything runs as expected. First, **restart the kernel** (in the menubar, select Kernel$\\rightarrow$Restart) and then **run all cells** (in the menubar, select Cell$\\rightarrow$Run All).\n",
    "\n",
    "Make sure you fill in any place that says `YOUR CODE HERE` or \"YOUR ANSWER HERE\", as well as your name and collaborators below:"
   ]
  },
  {
   "cell_type": "code",
   "execution_count": null,
   "metadata": {},
   "outputs": [],
   "source": []
  },
  {
   "cell_type": "code",
   "execution_count": null,
   "metadata": {},
   "outputs": [],
   "source": [
    "NAME = \"Paul de Graaf\"\n",
    "COLLABORATORS = \"\""
   ]
  },
  {
   "cell_type": "markdown",
   "metadata": {},
   "source": [
    "---"
   ]
  },
  {
   "cell_type": "markdown",
   "metadata": {},
   "source": [
    "# Python assignment\n",
    "\n",
    "The python assignment you can do either on your own or with one other student (i.e. max group size is 2 students).\n",
    "\n",
    "The first cell of your notebook, should contain a table with the names and SNRs and ANRs of the group members, like so\n",
    "\n",
    "|Name|SNR|ANR|\n",
    "|----|---|----|\n",
    "|jan boone|12345|u6786|\n",
    "|adam smith|56789|u1234|\n",
    "\n",
    "\n",
    "\n",
    "See [the webpage](https://janboone.github.io/applied-economics/#org065a005) for details of what we expect to see in this assignment.\n",
    "\n"
   ]
  },
  {
   "cell_type": "markdown",
   "metadata": {},
   "source": [
    "# Research question (0.5 points)\n",
    "\n",
    "Formulate the research question: what question do you want to answer in this assignment?"
   ]
  },
  {
   "cell_type": "markdown",
   "metadata": {
    "deletable": false,
    "nbgrader": {
     "checksum": "b350c3082e112a5b2f1f6db0481fa5bd",
     "grade": true,
     "grade_id": "cell-7a61a5e9e6991ff4",
     "locked": false,
     "points": 0.5,
     "schema_version": 1,
     "solution": true
    }
   },
   "source": [
    "What is the effect of the common agricultural policy on welfare"
   ]
  },
  {
   "cell_type": "markdown",
   "metadata": {},
   "source": [
    "# Motivation (0.5 points)\n",
    "\n",
    "Motivate why this question is interesting."
   ]
  },
  {
   "cell_type": "markdown",
   "metadata": {
    "deletable": false,
    "nbgrader": {
     "checksum": "ab93f4d26eb3e0bcf88927ee71df6b63",
     "grade": true,
     "grade_id": "cell-3d71712c92143820",
     "locked": false,
     "points": 0.5,
     "schema_version": 1,
     "solution": true
    }
   },
   "source": [
    "the common agricultural policy is the policy of the EU regarding agriculture. This policy has been heavily debated inside and outside the european union. The goals of the CAP were to lower the dependency of countries outside the EU by increasing the price by income support and market measures. The importance of the subject is shown by the huge amount of money that is used to support EU Farmers. The EU has spended 57.9 billion euros while the total EU budget is 103.08 billion euros and the CAP has been changing over time. On 2 December 2021 there has been agreed upon a new CAP which will be practically implemented on the first of january 2023. So, it is important to understand the effects of certain policies."
   ]
  },
  {
   "cell_type": "markdown",
   "metadata": {},
   "source": [
    "# Method (0.5 points)\n",
    "\n",
    "If you do a theory notebook (without external data; but perhaps with data that you simulate yourself), explain the methods that you use for the theory:\n",
    "\n",
    "* is there an optimization problem underlying the notebook (like a firm maximizing profits)?\n",
    "* do you calculate an equilibrium?\n",
    "* what model do you use?"
   ]
  },
  {
   "cell_type": "markdown",
   "metadata": {},
   "source": [
    "# [optional] Data [0.5 points]\n",
    "\n",
    "**These 0.5 points are instead of the Method points above**\n",
    "\n",
    "If you use data for your assignment, the Method part above does not apply. Instead,\n",
    "\n",
    "* explain where your data come from (give a link or the code to download the data if you use an API like [wbdata](https://wbdata.readthedocs.io/en/stable/));\n",
    "* explain the data cleaning and data normalization steps that you use;\n",
    "* make sure that the data is in your github repository as well (or explain why this is not possible) so that we can replicate your analysis;\n",
    "* what statistical methods do you use with the data.\n"
   ]
  },
  {
   "cell_type": "markdown",
   "metadata": {
    "deletable": false,
    "nbgrader": {
     "checksum": "84c7d0d85d8fb5e0073f3053f9bedf5a",
     "grade": true,
     "grade_id": "cell-8cbf4938fbebbb6e",
     "locked": false,
     "points": 0.5,
     "schema_version": 1,
     "solution": true
    }
   },
   "source": [
    "YOUR ANSWER HERE"
   ]
  },
  {
   "cell_type": "markdown",
   "metadata": {},
   "source": [
    "# Preview of the answers (0.5 points)\n",
    "\n",
    "Summarize the results that you find and the answer to your research question."
   ]
  },
  {
   "cell_type": "markdown",
   "metadata": {
    "deletable": false,
    "nbgrader": {
     "checksum": "938eb25dc709a2252d7013dc1cd8176a",
     "grade": true,
     "grade_id": "cell-1b3df4385bba508d",
     "locked": false,
     "points": 0.5,
     "schema_version": 1,
     "solution": true
    }
   },
   "source": [
    "YOUR ANSWER HERE"
   ]
  },
  {
   "cell_type": "markdown",
   "metadata": {},
   "source": [
    "# Main assumptions (0.5 points)\n",
    "\n",
    "What are the main assumptions that you need to answer the question? If you do a theory notebook, what are the main assumptions of your model? If you use data, what assumptions are needed by your estimation method."
   ]
  },
  {
   "cell_type": "markdown",
   "metadata": {
    "deletable": false,
    "nbgrader": {
     "checksum": "2e95c3f2ef005a63968a0ade420f5af7",
     "grade": true,
     "grade_id": "cell-d84f19967b2baa1d",
     "locked": false,
     "points": 0.5,
     "schema_version": 1,
     "solution": true
    }
   },
   "source": [
    "YOUR ANSWER HERE"
   ]
  },
  {
   "cell_type": "markdown",
   "metadata": {},
   "source": [
    "# Python code (6.5 points)\n",
    "\n",
    "\n",
    "Give the python code in code cells and use markdown cells to explain why you code things in this way and what the outcomes are of the code cells.\n",
    "\n",
    "Note that the explanation of your code is at least as important as the python code itself.\n",
    "\n",
    "Create as many python and markdown cells as you need to explain things well.\n"
   ]
  },
  {
   "cell_type": "code",
   "execution_count": 171,
   "metadata": {
    "deletable": false,
    "nbgrader": {
     "checksum": "3dd4c02198f7b81f943268cb3d0a12b2",
     "grade": true,
     "grade_id": "cell-a2231ee7e6d4e686",
     "locked": false,
     "points": 7,
     "schema_version": 1,
     "solution": true
    }
   },
   "outputs": [],
   "source": [
    "import pandas as pd\n",
    "import numpy as np\n",
    "import pymc3 as pm\n",
    "import matplotlib.pyplot as plt\n",
    "import matplotlib.patches as pl\n",
    "import seaborn as sns\n",
    "from scipy import stats, optimize\n",
    "import random\n",
    "import wbdata as wb\n",
    "\n",
    "plt.style.use('seaborn')\n",
    "%matplotlib inline"
   ]
  },
  {
   "cell_type": "code",
   "execution_count": 143,
   "metadata": {},
   "outputs": [
    {
     "name": "stdout",
     "output_type": "stream",
     "text": [
      "0.48358155725108365\n"
     ]
    }
   ],
   "source": [
    "#first we start with a simple model of a supply and demand curve.\n",
    "number_of_agents = 1000\n",
    "number_of_goods = 100\n",
    "\n",
    "valuations = np.array(sorted(pm.Normal.dist(0.35,0.1).random(size=number_of_agents),reverse = True))\n",
    "print(valuations[number_of_goods])\n",
    "\n",
    "valuations_s = np.array(sorted(pm.Normal.dist(0.35,0.1).random(size=number_of_agents),reverse = False))\n",
    "\n",
    "def demand(p,valuations) : \n",
    "    return np.sum(valuations>p)\n",
    "\n",
    "def supply(p,valuations_s) : \n",
    "    return np.sum(valuations_s<p)"
   ]
  },
  {
   "cell_type": "code",
   "execution_count": 144,
   "metadata": {},
   "outputs": [
    {
     "name": "stdout",
     "output_type": "stream",
     "text": [
      "[0.3511713]\n",
      "489\n"
     ]
    }
   ],
   "source": [
    "#solve for Q and P\n",
    "def demand_minus_supply(p,valuations,valuations_s) : \n",
    "    return demand(p,valuations)-supply(p,valuations_s)\n",
    "\n",
    "price = optimize.fsolve(lambda p: demand_minus_supply(p,valuations,valuations_s),0.5)\n",
    "print(price)\n",
    "Q = demand(price,valuations)\n",
    "print(Q)"
   ]
  },
  {
   "cell_type": "code",
   "execution_count": 145,
   "metadata": {},
   "outputs": [
    {
     "data": {
      "image/png": "[encoded data removed]",
      "text/plain": [
       "<Figure size 432x288 with 1 Axes>"
      ]
     },
     "metadata": {
      "needs_background": "light"
     },
     "output_type": "display_data"
    }
   ],
   "source": [
    "#plot formulas and surplusses\n",
    "range_p = np.arange(0.1,0.6,0.01)\n",
    "plt.plot([demand(p,valuations) for p in range_p], range_p,label=\"Demand Home\")\n",
    "plt.plot([supply(p,valuations_s)for p in range_p],range_p,label=\"Supply Home\")\n",
    "plt.fill_between([demand(p,valuations) for p in range_p], range_p, price , where=[(demand(p,valuations))<Q for p in range_p],facecolor='b',alpha=0.5,interpolate=True)\n",
    "plt.fill_between([supply(p,valuations_s) for p in range_p], range_p, price , where=[(supply(p,valuations_s))<Q for p in range_p],facecolor='g',alpha=0.5, interpolate=True)\n",
    "plt.legend(loc=5)\n",
    "plt.xlabel('$Q$')\n",
    "plt.ylabel('$P$')\n",
    "plt.title('Perfectly competitive Milk market')\n",
    "plt.annotate('Home equilibrium,', xy=(Q, price), xytext=(200, 0.55),arrowprops=dict(facecolor='black', shrink=1.5))\n",
    "plt.annotate((\"CS\"),xy=(50,0.4))\n",
    "plt.annotate((\"PS\"),xy=(50,0.28))\n",
    "plt.show()"
   ]
  },
  {
   "cell_type": "code",
   "execution_count": 153,
   "metadata": {},
   "outputs": [
    {
     "name": "stdout",
     "output_type": "stream",
     "text": [
      "[39.942232858810954, 39.72960655700552, 79.67183941581646]\n"
     ]
    }
   ],
   "source": [
    "#calculate surplus\n",
    "CS= np.sum(valuations[valuations> price]-price )\n",
    "PS = np.sum(price -valuations_s[valuations_s<price])\n",
    "TS=CS+PS\n",
    "print([CS,PS,TS])"
   ]
  },
  {
   "cell_type": "code",
   "execution_count": 147,
   "metadata": {},
   "outputs": [
    {
     "name": "stdout",
     "output_type": "stream",
     "text": [
      "[852, 158]\n"
     ]
    }
   ],
   "source": [
    "#we add a world price at 0.25. Now the price in the market will be 0.25 as well. we assume implicitely that the foreign farmers are more productive\n",
    "worldprice=0.25\n",
    "Q_demand = demand(worldprice,valuations)\n",
    "\n",
    "Q_supply = supply(worldprice,valuations_s)\n",
    "print([Q_demand,Q_supply])"
   ]
  },
  {
   "cell_type": "code",
   "execution_count": 148,
   "metadata": {},
   "outputs": [
    {
     "data": {
      "image/png": "[encoded data removed]",
      "text/plain": [
       "<Figure size 432x288 with 1 Axes>"
      ]
     },
     "metadata": {
      "needs_background": "light"
     },
     "output_type": "display_data"
    }
   ],
   "source": [
    "#we add the world price at which the whole market can be satisfied. \n",
    "range_p = np.arange(0.1,0.6,0.01)\n",
    "plt.plot([demand(p,valuations) for p in range_p], range_p,label=\"Demand Home\")\n",
    "plt.plot([supply(p,valuations)for p in range_p],range_p,label=\"Supply Home\")\n",
    "plt.plot([0,1000],[worldprice,worldprice],label=\"World Price\")\n",
    "plt.fill_between([demand(p,valuations) for p in range_p], range_p, worldprice , where=[(demand(p,valuations))<Q_demand for p in range_p],facecolor='b',alpha=0.5,interpolate=True)\n",
    "plt.fill_between([supply(p,valuations_s) for p in range_p], range_p, worldprice , where=[(supply(p,valuations_s))<Q_supply for p in range_p],facecolor='g',alpha=0.5, interpolate=True)\n",
    "plt.legend(loc=5)\n",
    "plt.xlabel('$Q$')\n",
    "plt.ylabel('$P$')\n",
    "plt.title('Perfectly competitive Milk market')\n",
    "plt.annotate('New Home Demand', xy=(Q_demand, worldprice), xytext=(600, 0.15),arrowprops=dict(facecolor='black', shrink=1.5))\n",
    "plt.annotate('New Home Supply', xy=(Q_supply, worldprice), xytext=(200, 0.15),arrowprops=dict(facecolor='black', shrink=1.5))\n",
    "plt.annotate((\"CS\"),xy=(300,0.3))\n",
    "plt.annotate((\"PS\"),xy=(10,0.2))\n",
    "plt.show()"
   ]
  },
  {
   "cell_type": "code",
   "execution_count": 151,
   "metadata": {},
   "outputs": [
    {
     "name": "stdout",
     "output_type": "stream",
     "text": [
      "[109.48706653733484, 24.56170421052355, 134.04877074785838]\n"
     ]
    }
   ],
   "source": [
    "#calculate new surplusses\n",
    "CS= np.sum(valuations[valuations> worldprice]-worldprice )\n",
    "PS = np.sum(price -valuations_s[valuations_s<worldprice])\n",
    "TS=CS+PS\n",
    "print([CS,PS,TS])"
   ]
  },
  {
   "cell_type": "code",
   "execution_count": 175,
   "metadata": {},
   "outputs": [
    {
     "name": "stdout",
     "output_type": "stream",
     "text": [
      "0.3\n",
      "[687, 301]\n"
     ]
    }
   ],
   "source": [
    "#EU implements tariffs which increases the price but still below home equilibrium price. \n",
    "pricetax = worldprice*1.2\n",
    "print(pricetax)\n",
    "Q_demandt = demand(pricetax,valuations)\n",
    "Q_supplyt = supply(pricetax,valuations_s)\n",
    "world_supply=Q_demandt-Q_supplyt\n",
    "tax=pricetax-worldprice\n",
    "print([Q_demandt,Q_supplyt])"
   ]
  },
  {
   "cell_type": "code",
   "execution_count": 197,
   "metadata": {},
   "outputs": [
    {
     "data": {
      "image/png": "[encoded data removed]",
      "text/plain": [
       "<Figure size 432x288 with 1 Axes>"
      ]
     },
     "metadata": {
      "needs_background": "light"
     },
     "output_type": "display_data"
    }
   ],
   "source": [
    "#we add a tax to the world price at which the whole market can be satisfied. \n",
    "range_p = np.arange(0.1,0.6,0.01)\n",
    "\n",
    "plt.plot([demand(p,valuations) for p in range_p], range_p,label=\"Demand Home\")\n",
    "plt.plot([supply(p,valuations)for p in range_p],range_p,label=\"Supply Home\")\n",
    "plt.plot([0,1000],[worldprice,worldprice],label=\"World Price\")\n",
    "plt.plot([0,1000],[pricetax,pricetax],label=\"World Price inclusive tariffs\")\n",
    "plt.fill_between([demand(p,valuations) for p in range_p], range_p, pricetax , where=[(demand(p,valuations))<Q_demandt for p in range_p],facecolor='b',alpha=0.5,interpolate=True)\n",
    "plt.fill_between([supply(p,valuations_s) for p in range_p], range_p, pricetax , where=[(supply(p,valuations_s))<Q_supplyt for p in range_p],facecolor='g',alpha=0.5, interpolate=True)\n",
    "plt.legend(loc=9)\n",
    "plt.xlabel('$Q$')\n",
    "plt.ylabel('$P$')\n",
    "plt.title('Perfectly competitive Milk market')\n",
    "plt.annotate('New Home Demand', xy=(Q_demandt, pricetax), xytext=(750, 0.15),arrowprops=dict(facecolor='black', shrink=1.5))\n",
    "plt.annotate('New Home Supply', xy=(Q_supplyt, pricetax), xytext=(100, 0.15),arrowprops=dict(facecolor='black', shrink=1.5))\n",
    "plt.annotate((\"CS\"),xy=(200,0.35))\n",
    "plt.annotate((\"PS\"),xy=(10,0.2))\n",
    "plt.show()"
   ]
  },
  {
   "cell_type": "markdown",
   "metadata": {},
   "source": [
    "# Sensitivity analysis (0.5 points)\n",
    "\n",
    "If you do a theory notebook, program different values for the parameters, use different functional forms and solve your model again for these new values. Show that the outcomes are robust to such changes.\n",
    "\n",
    "If you are using data, how sensitive are your results to outliers in the data, different choices when cleaning the data, different functional forms for the relations that you estimate.\n"
   ]
  },
  {
   "cell_type": "code",
   "execution_count": 2,
   "metadata": {
    "nbgrader": {
     "checksum": "3dd4c02198f7b81f943268cb3d0a12b2",
     "grade": true,
     "grade_id": "cell-a2231ee7e6d4e686",
     "locked": false,
     "points": 7,
     "schema_version": 1,
     "solution": true
    }
   },
   "outputs": [],
   "source": [
    "# YOUR CODE HERE\n",
    "raise NotImplementedError()"
   ]
  },
  {
   "cell_type": "markdown",
   "metadata": {},
   "source": [
    "# Discussion and conclusion (0.5 points)\n",
    "\n",
    "What did you find in the analysis above; what is the answer to the question you started out with.\n",
    "\n",
    "What are weaknesses of your approach that can be improved upon in future research (e.g. in your thesis).\n"
   ]
  },
  {
   "cell_type": "markdown",
   "metadata": {
    "deletable": false,
    "nbgrader": {
     "checksum": "52e1cf5783dd1971d265a8ea172e297a",
     "grade": true,
     "grade_id": "cell-4b5c9f698b295ad7",
     "locked": false,
     "points": 0.5,
     "schema_version": 1,
     "solution": true
    }
   },
   "source": [
    "YOUR ANSWER HERE"
   ]
  },
  {
   "cell_type": "code",
   "execution_count": null,
   "metadata": {},
   "outputs": [],
   "source": []
  }
 ],
 "metadata": {
  "kernelspec": {
   "display_name": "Python 3",
   "language": "python",
   "name": "python3"
  },
  "language_info": {
   "codemirror_mode": {
    "name": "ipython",
    "version": 3
   },
   "file_extension": ".py",
   "mimetype": "text/x-python",
   "name": "python",
   "nbconvert_exporter": "python",
   "pygments_lexer": "ipython3",
   "version": "3.8.6"
  },
  "toc": {
   "base_numbering": 1,
   "nav_menu": {},
   "number_sections": true,
   "sideBar": true,
   "skip_h1_title": false,
   "title_cell": "Table of Contents",
   "title_sidebar": "Contents",
   "toc_cell": false,
   "toc_position": {},
   "toc_section_display": true,
   "toc_window_display": true
  }
 },
 "nbformat": 4,
 "nbformat_minor": 4
}

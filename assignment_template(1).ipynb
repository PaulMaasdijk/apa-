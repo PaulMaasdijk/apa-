{
 "cells": [
  {
   "cell_type": "markdown",
   "metadata": {},
   "source": [
    "Before you turn this problem in, make sure everything runs as expected. First, **restart the kernel** (in the menubar, select Kernel$\\rightarrow$Restart) and then **run all cells** (in the menubar, select Cell$\\rightarrow$Run All).\n",
    "\n",
    "Make sure you fill in any place that says `YOUR CODE HERE` or \"YOUR ANSWER HERE\", as well as your name and collaborators below:"
   ]
  },
  {
   "cell_type": "code",
   "execution_count": null,
   "metadata": {},
   "outputs": [],
   "source": [
    "NAME = Luc de Vries\n",
    "COLLABORATORS = \"\""
   ]
  },
  {
   "cell_type": "markdown",
   "metadata": {},
   "source": [
    "---"
   ]
  },
  {
   "cell_type": "markdown",
   "metadata": {},
   "source": [
    "# Python assignment\n",
    "\n",
    "The python assignment you can do either on your own or with one other student (i.e. max group size is 2 students).\n",
    "\n",
    "The first cell of your notebook, should contain a table with the names and SNRs and ANRs of the group members, like so\n",
    "\n",
    "|Name|SNR|ANR|\n",
    "|----|---|----|\n",
    "|jan boone|12345|u6786|\n",
    "|adam smith|56789|u1234|\n",
    "\n",
    "\n",
    "\n",
    "See [the webpage](https://janboone.github.io/applied-economics/#org065a005) for details of what we expect to see in this assignment.\n",
    "\n"
   ]
  },
  {
   "cell_type": "markdown",
   "metadata": {},
   "source": [
    "# Research question (0.5 points)\n",
    "\n",
    "Formulate the research question: what question do you want to answer in this assignment?"
   ]
  },
  {
   "cell_type": "markdown",
   "metadata": {
    "deletable": false,
    "nbgrader": {
     "checksum": "b350c3082e112a5b2f1f6db0481fa5bd",
     "grade": true,
     "grade_id": "cell-7a61a5e9e6991ff4",
     "locked": false,
     "points": 0.5,
     "schema_version": 1,
     "solution": true
    }
   },
   "source": [
    "YOUR ANSWER HERE"
   ]
  },
  {
   "cell_type": "markdown",
   "metadata": {},
   "source": [
    "# Motivation (0.5 points)\n",
    "\n",
    "Motivate why this question is interesting."
   ]
  },
  {
   "cell_type": "markdown",
   "metadata": {
    "deletable": false,
    "nbgrader": {
     "checksum": "ab93f4d26eb3e0bcf88927ee71df6b63",
     "grade": true,
     "grade_id": "cell-3d71712c92143820",
     "locked": false,
     "points": 0.5,
     "schema_version": 1,
     "solution": true
    }
   },
   "source": [
    "YOUR ANSWER HERE"
   ]
  },
  {
   "cell_type": "markdown",
   "metadata": {},
   "source": [
    "# Method (0.5 points)\n",
    "\n",
    "If you do a theory notebook (without external data; but perhaps with data that you simulate yourself), explain the methods that you use for the theory:\n",
    "\n",
    "* is there an optimization problem underlying the notebook (like a firm maximizing profits)?\n",
    "* do you calculate an equilibrium?\n",
    "* what model do you use?"
   ]
  },
  {
   "cell_type": "markdown",
   "metadata": {},
   "source": [
    "# [optional] Data [0.5 points]\n",
    "\n",
    "**These 0.5 points are instead of the Method points above**\n",
    "\n",
    "If you use data for your assignment, the Method part above does not apply. Instead,\n",
    "\n",
    "* explain where your data come from (give a link or the code to download the data if you use an API like [wbdata](https://wbdata.readthedocs.io/en/stable/));\n",
    "* explain the data cleaning and data normalization steps that you use;\n",
    "* make sure that the data is in your github repository as well (or explain why this is not possible) so that we can replicate your analysis;\n",
    "* what statistical methods do you use with the data.\n"
   ]
  },
  {
   "cell_type": "markdown",
   "metadata": {
    "deletable": false,
    "nbgrader": {
     "checksum": "84c7d0d85d8fb5e0073f3053f9bedf5a",
     "grade": true,
     "grade_id": "cell-8cbf4938fbebbb6e",
     "locked": false,
     "points": 0.5,
     "schema_version": 1,
     "solution": true
    }
   },
   "source": [
    "YOUR ANSWER HERE"
   ]
  },
  {
   "cell_type": "markdown",
   "metadata": {},
   "source": [
    "# Preview of the answers (0.5 points)\n",
    "\n",
    "Summarize the results that you find and the answer to your research question."
   ]
  },
  {
   "cell_type": "markdown",
   "metadata": {
    "deletable": false,
    "nbgrader": {
     "checksum": "938eb25dc709a2252d7013dc1cd8176a",
     "grade": true,
     "grade_id": "cell-1b3df4385bba508d",
     "locked": false,
     "points": 0.5,
     "schema_version": 1,
     "solution": true
    }
   },
   "source": [
    "YOUR ANSWER HERE"
   ]
  },
  {
   "cell_type": "markdown",
   "metadata": {},
   "source": [
    "# Main assumptions (0.5 points)\n",
    "\n",
    "What are the main assumptions that you need to answer the question? If you do a theory notebook, what are the main assumptions of your model? If you use data, what assumptions are needed by your estimation method."
   ]
  },
  {
   "cell_type": "markdown",
   "metadata": {
    "deletable": false,
    "nbgrader": {
     "checksum": "2e95c3f2ef005a63968a0ade420f5af7",
     "grade": true,
     "grade_id": "cell-d84f19967b2baa1d",
     "locked": false,
     "points": 0.5,
     "schema_version": 1,
     "solution": true
    }
   },
   "source": [
    "YOUR ANSWER HERE"
   ]
  },
  {
   "cell_type": "markdown",
   "metadata": {},
   "source": [
    "# Python code (6.5 points)\n",
    "\n",
    "\n",
    "Give the python code in code cells and use markdown cells to explain why you code things in this way and what the outcomes are of the code cells.\n",
    "\n",
    "Note that the explanation of your code is at least as important as the python code itself.\n",
    "\n",
    "Create as many python and markdown cells as you need to explain things well.\n"
   ]
  },
  {
   "cell_type": "code",
   "execution_count": 7,
   "metadata": {
    "deletable": false,
    "nbgrader": {
     "checksum": "3dd4c02198f7b81f943268cb3d0a12b2",
     "grade": true,
     "grade_id": "cell-a2231ee7e6d4e686",
     "locked": false,
     "points": 7,
     "schema_version": 1,
     "solution": true
    }
   },
   "outputs": [
    {
     "name": "stderr",
     "output_type": "stream",
     "text": [
      "/opt/conda/lib/python3.8/site-packages/theano/configdefaults.py:696: UserWarning: DeprecationWarning: there is no c++ compiler.This is deprecated and with Theano 0.11 a c++ compiler will be mandatory\n",
      "  warnings.warn(\n",
      "WARNING (theano.configdefaults): g++ not detected ! Theano will be unable to execute optimized C-implementations (for both CPU and GPU) and will default to Python implementations. Performance will be severely degraded. To remove this warning, set Theano flags cxx to an empty string.\n",
      "WARNING (theano.configdefaults): install mkl with `conda install mkl-service`: No module named 'mkl'\n",
      "WARNING (theano.tensor.blas): Using NumPy C-API based implementation for BLAS functions.\n"
     ]
    }
   ],
   "source": [
    "import pandas as pd\n",
    "import numpy as np\n",
    "import pymc3 as pm\n",
    "import matplotlib.pyplot as plt\n",
    "import matplotlib.patches as pl\n",
    "import seaborn as sns\n",
    "from scipy import stats, optimize\n",
    "import random\n",
    "import wbdata as wb\n",
    "\n",
    "plt.style.use('seaborn')\n",
    "%matplotlib inline"
   ]
  },
  {
   "cell_type": "code",
   "execution_count": 29,
   "metadata": {},
   "outputs": [
    {
     "name": "stdout",
     "output_type": "stream",
     "text": [
      "0.4776044981817241\n"
     ]
    }
   ],
   "source": [
    "#first we start with a simple model of a supply and demand curve.\n",
    "number_of_agents = 1000\n",
    "number_of_goods = 100\n",
    "\n",
    "valuations = np.array(sorted(pm.Normal.dist(0.35,0.1).random(size=number_of_agents),reverse = True))\n",
    "print(valuations[number_of_goods])\n",
    "\n",
    "valuations_s = np.array(sorted(pm.Normal.dist(0.35,0.1).random(size=number_of_agents),reverse = False))\n",
    "\n",
    "def demand(p,valuations) : \n",
    "    return np.sum(valuations>p)\n",
    "\n",
    "def supply(p,valuations_s) : \n",
    "    return np.sum(valuations_s<p)"
   ]
  },
  {
   "cell_type": "code",
   "execution_count": 30,
   "metadata": {},
   "outputs": [
    {
     "name": "stdout",
     "output_type": "stream",
     "text": [
      "[0.3473616]\n",
      "488\n"
     ]
    }
   ],
   "source": [
    "#solve for Q and P\n",
    "def demand_minus_supply(p,valuations,valuations_s) : \n",
    "    return demand(p,valuations)-supply(p,valuations_s)\n",
    "\n",
    "price = optimize.fsolve(lambda p: demand_minus_supply(p,valuations,valuations_s),0.5)\n",
    "print(price)\n",
    "Q = demand(price,valuations)\n",
    "print(Q)"
   ]
  },
  {
   "cell_type": "code",
   "execution_count": 31,
   "metadata": {},
   "outputs": [
    {
     "data": {
      "image/png": "[encoded data removed]",
      "text/plain": [
       "<Figure size 432x288 with 1 Axes>"
      ]
     },
     "metadata": {
      "needs_background": "light"
     },
     "output_type": "display_data"
    }
   ],
   "source": [
    "#plot formulas and surplusses\n",
    "range_p = np.arange(0.1,0.7,0.01)\n",
    "plt.plot([demand(p,valuations) for p in range_p], range_p,label=\"Demand Home\")\n",
    "plt.plot([supply(p,valuations_s)for p in range_p],range_p,label=\"Supply Home\")\n",
    "plt.fill_between([demand(p,valuations) for p in range_p], range_p, price , where=[(demand(p,valuations))<Q for p in range_p],facecolor='b',alpha=0.5,interpolate=True)\n",
    "plt.fill_between([supply(p,valuations_s) for p in range_p], range_p, price , where=[(supply(p,valuations_s))<Q for p in range_p],facecolor='g',alpha=0.5, interpolate=True)\n",
    "plt.legend(loc=5)\n",
    "plt.xlabel('$Q$')\n",
    "plt.ylabel('$P$')\n",
    "plt.title('Perfectly competitive Milk market')\n",
    "plt.annotate('Home equilibrium,', xy=(Q, price), xytext=(200, 0.55),arrowprops=dict(facecolor='black', shrink=1.5))\n",
    "plt.annotate((\"CS\"),xy=(50,0.4))\n",
    "plt.annotate((\"PS\"),xy=(50,0.28))\n",
    "plt.show()"
   ]
  },
  {
   "cell_type": "code",
   "execution_count": 32,
   "metadata": {},
   "outputs": [
    {
     "name": "stdout",
     "output_type": "stream",
     "text": [
      "[40.113326468078895, 38.11676154037476, 78.23008800845366]\n"
     ]
    }
   ],
   "source": [
    "#calculate surplus\n",
    "CS= np.sum(valuations[valuations> price]-price )\n",
    "PS = np.sum(price -valuations_s[valuations_s<price])\n",
    "TS=CS+PS\n",
    "print([CS,PS,TS])"
   ]
  },
  {
   "cell_type": "code",
   "execution_count": 33,
   "metadata": {},
   "outputs": [
    {
     "name": "stdout",
     "output_type": "stream",
     "text": [
      "[680, 299]\n"
     ]
    }
   ],
   "source": [
    "#we add a world price at 0.3. Now the price in the market will be 0.3 as well. we assume implicitely that the foreign farmers are more productive\n",
    "worldprice=0.3\n",
    "Q_demand = demand(worldprice,valuations)\n",
    "\n",
    "Q_supply = supply(worldprice,valuations_s)\n",
    "print([Q_demand,Q_supply])"
   ]
  },
  {
   "cell_type": "code",
   "execution_count": 67,
   "metadata": {},
   "outputs": [
    {
     "ename": "SyntaxError",
     "evalue": "invalid syntax (<ipython-input-67-9bc7287a9744>, line 7)",
     "output_type": "error",
     "traceback": [
      "\u001b[0;36m  File \u001b[0;32m\"<ipython-input-67-9bc7287a9744>\"\u001b[0;36m, line \u001b[0;32m7\u001b[0m\n\u001b[0;31m    plt.fill_between([supply(p,valuations_s) for p in range_p], range_p, worldprice , where=[(supply(p,valuations_s))<Q_supply,facecolor='g',alpha=0.5, interpolate=True)\u001b[0m\n\u001b[0m                                                                                                                                        ^\u001b[0m\n\u001b[0;31mSyntaxError\u001b[0m\u001b[0;31m:\u001b[0m invalid syntax\n"
     ]
    }
   ],
   "source": [
    "#we add the world price at which the whole market can be satisfied. \n",
    "range_p = np.arange(0.1,0.6,0.01)\n",
    "plt.plot([demand(p,valuations) for p in range_p], range_p,label=\"Demand Home\")\n",
    "plt.plot([supply(p,valuations)for p in range_p],range_p,label=\"Supply Home\")\n",
    "plt.plot([0,1000],[worldprice,worldprice],label=\"World Price\")\n",
    "plt.fill_between([demand(p,valuations) for p in range_p], range_p, worldprice , where=[(demand(p,valuations))<Q_demand for p in range_p],facecolor='b',alpha=0.5,interpolate=True)\n",
    "plt.fill_between([supply(p,valuations_s) for p in range_p], range_p, worldprice , where=[(supply(p,valuations_s))<Q_supply,facecolor='g',alpha=0.5, interpolate=True)\n",
    "plt.legend(loc=5)\n",
    "plt.xlabel('$Q$')\n",
    "plt.ylabel('$P$')\n",
    "plt.title('Perfectly competitive Milk market')\n",
    "plt.annotate('New Home Demand', xy=(Q_demand, worldprice), xytext=(600, 0.15),arrowprops=dict(facecolor='black', shrink=1.5))\n",
    "plt.annotate('New Home Supply', xy=(Q_supply, worldprice), xytext=(200, 0.15),arrowprops=dict(facecolor='black', shrink=1.5))\n",
    "plt.annotate((\"CS\"),xy=(300,0.34))\n",
    "plt.annotate((\"PS\"),xy=(10,0.2))\n",
    "plt.show()"
   ]
  },
  {
   "cell_type": "code",
   "execution_count": 35,
   "metadata": {},
   "outputs": [
    {
     "name": "stdout",
     "output_type": "stream",
     "text": [
      "[67.86213136607324, 33.78165334809236, 101.6437847141656]\n"
     ]
    }
   ],
   "source": [
    "#calculate new surplusses\n",
    "CS= np.sum(valuations[valuations> worldprice]-worldprice )\n",
    "PS = np.sum(price -valuations_s[valuations_s<worldprice])\n",
    "TS=CS+PS\n",
    "print([CS,PS,TS])\n",
    "\n"
   ]
  },
  {
   "cell_type": "code",
   "execution_count": 36,
   "metadata": {},
   "outputs": [
    {
     "name": "stdout",
     "output_type": "stream",
     "text": [
      "0.33\n",
      "[558, 409]\n"
     ]
    }
   ],
   "source": [
    "#EU implements tariffs which increases the price but still below home equilibrium price. \n",
    "pricetax = worldprice*1.1\n",
    "print(pricetax)\n",
    "Q_demandt = demand(pricetax,valuations)\n",
    "Q_supplyt = supply(pricetax,valuations_s)\n",
    "world_supply=Q_demandt-Q_supplyt\n",
    "tax=pricetax-worldprice\n",
    "print([Q_demandt,Q_supplyt])"
   ]
  },
  {
   "cell_type": "code",
   "execution_count": 37,
   "metadata": {},
   "outputs": [
    {
     "data": {
      "image/png": "[encoded data removed]",
      "text/plain": [
       "<Figure size 432x288 with 1 Axes>"
      ]
     },
     "metadata": {
      "needs_background": "light"
     },
     "output_type": "display_data"
    }
   ],
   "source": [
    "#we add a tax to the world price at which the whole market can be satisfied. \n",
    "range_p = np.arange(0.1,0.6,0.01)\n",
    "\n",
    "plt.plot([demand(p,valuations) for p in range_p], range_p,label=\"Demand Home\")\n",
    "plt.plot([supply(p,valuations)for p in range_p],range_p,label=\"Supply Home\")\n",
    "plt.plot([0,1000],[worldprice,worldprice],label=\"World Price\")\n",
    "plt.plot([0,1000],[pricetax,pricetax],label=\"World Price inclusive tariffs\")\n",
    "plt.fill_between([demand(p,valuations) for p in range_p], range_p, pricetax , where=[(demand(p,valuations))<Q_demandt for p in range_p],facecolor='b',alpha=0.5,interpolate=True)\n",
    "plt.fill_between([supply(p,valuations_s) for p in range_p], range_p, pricetax , where=[(supply(p,valuations_s))<Q_supplyt for p in range_p],facecolor='g',alpha=0.5, interpolate=True)\n",
    "plt.legend(loc=9)\n",
    "plt.xlabel('$Q$')\n",
    "plt.ylabel('$P$')\n",
    "plt.title('Perfectly competitive Milk market')\n",
    "plt.annotate('New Home Demand', xy=(Q_demandt, pricetax), xytext=(750, 0.15),arrowprops=dict(facecolor='black', shrink=1.5))\n",
    "plt.annotate('New Home Supply', xy=(Q_supplyt, pricetax), xytext=(100, 0.15),arrowprops=dict(facecolor='black', shrink=1.5))\n",
    "plt.annotate((\"CS\"),xy=(200,0.35))\n",
    "plt.annotate((\"PS\"),xy=(10,0.2))\n",
    "plt.show()\n",
    "\n"
   ]
  },
  {
   "cell_type": "code",
   "execution_count": 38,
   "metadata": {},
   "outputs": [
    {
     "name": "stdout",
     "output_type": "stream",
     "text": [
      "[0.3473616]\n",
      "488\n"
     ]
    }
   ],
   "source": [
    "# eu gets really productive later on even so that the price level is below the worldprice\n",
    "valuations_sn = np.array(sorted(pm.Normal.dist(0.15,0.1).random(size=number_of_agents),reverse = False))\n",
    "def supplyn(p,valuations_sn) : \n",
    "    return np.sum(valuations_sn<p)\n",
    "def demand_minus_supplyn(p,valuations,valuations_sn) : \n",
    "    return demand(p,valuations)-supply(p,valuations_sn)\n",
    "\n",
    "pricen = optimize.fsolve(lambda p: demand_minus_supply(p,valuations,valuations_sn),0.3)\n",
    "print(price)\n",
    "Qn = demand(pricen,valuations)\n",
    "Sn = supplyn(pricen,valuations_sn) \n",
    "Q_export = Sn-Qn\n",
    "print(Q)\n",
    "\n"
   ]
  },
  {
   "cell_type": "code",
   "execution_count": 39,
   "metadata": {},
   "outputs": [
    {
     "data": {
      "image/png": "[encoded data removed]",
      "text/plain": [
       "<Figure size 432x288 with 1 Axes>"
      ]
     },
     "metadata": {
      "needs_background": "light"
     },
     "output_type": "display_data"
    }
   ],
   "source": [
    "range_p = np.arange(-0.1,0.6,0.01)\n",
    "\n",
    "plt.plot([demand(p,valuations) for p in range_p], range_p,label=\"Demand Home\")\n",
    "plt.plot([supplyn(p,valuations_sn)for p in range_p],range_p,label=\"Supply Home\")\n",
    "plt.plot([0,1000],[worldprice,worldprice],label=\"World Price\")\n",
    "plt.fill_between([demand(p,valuations) for p in range_p], range_p, pricen , where=[(demand(p,valuations))<Qn for p in range_p],facecolor='b',alpha=0.5,interpolate=True)\n",
    "plt.fill_between([supply(p,valuations_sn) for p in range_p], range_p, pricen , where=[(supply(p,valuations_sn))<Sn for p in range_p],facecolor='g',alpha=0.5, interpolate=True)\n",
    "plt.legend(loc=9)\n",
    "plt.xlabel('$Q$')\n",
    "plt.ylabel('$P$')\n",
    "plt.title('Perfectly competitive Milk market')\n",
    "plt.annotate((\"CS\"),xy=(200,0.35))\n",
    "plt.annotate((\"PS\"),xy=(10,0.2))\n",
    "plt.show()\n",
    "\n"
   ]
  },
  {
   "cell_type": "code",
   "execution_count": 40,
   "metadata": {},
   "outputs": [
    {
     "name": "stdout",
     "output_type": "stream",
     "text": [
      "0.3490976213811152\n",
      "0.24909762138111524\n"
     ]
    }
   ],
   "source": [
    "#Direct payment to farmers\n",
    "#calculate valuations\n",
    "valuations_s = np.array(sorted(pm.Normal.dist(0.35,0.1).random(size=number_of_agents),reverse = False))\n",
    "#we assume that a payment to farmers increases supply, So the supply at a lower price\n",
    "valuations_dp = valuations_s-0.1\n",
    "print(valuations_s.mean())\n",
    "print(valuations_dp.mean())\n",
    "\n",
    "def supply(p,valuations_s) : \n",
    "    return np.sum(valuations_s<p)\n",
    "\n",
    "def supplydp(p,valuations_dp) : \n",
    "    return np.sum(valuations_dp<p)"
   ]
  },
  {
   "cell_type": "code",
   "execution_count": 41,
   "metadata": {},
   "outputs": [
    {
     "name": "stdout",
     "output_type": "stream",
     "text": [
      "[0.34904552]\n",
      "485\n",
      "[0.29792921]\n",
      "686\n"
     ]
    },
    {
     "name": "stderr",
     "output_type": "stream",
     "text": [
      "/opt/conda/lib/python3.8/site-packages/scipy/optimize/minpack.py:175: RuntimeWarning: The iteration is not making good progress, as measured by the \n",
      "  improvement from the last ten iterations.\n",
      "  warnings.warn(msg, RuntimeWarning)\n"
     ]
    }
   ],
   "source": [
    "#solve for Q and P with and without direct payment\n",
    "#without direct payment\n",
    "def demand_minus_supply(p,valuations,valuations_s) : \n",
    "    return demand(p,valuations)-supply(p,valuations_s)\n",
    "\n",
    "price = optimize.fsolve(lambda p: demand_minus_supply(p,valuations,valuations_s),0.5)\n",
    "print(price)\n",
    "Q = demand(price,valuations)\n",
    "print(Q)\n",
    "#with direct payment\n",
    "def demand_minus_supplydp(p,valuations,valuations_dp) : \n",
    "    return demand(p,valuations)-supplydp(p,valuations_dp)\n",
    "\n",
    "pricedp = optimize.fsolve(lambda p: demand_minus_supply(p,valuations,valuations_dp),0.5)\n",
    "print(pricedp)\n",
    "Q = demand(pricedp,valuations)\n",
    "print(Q)"
   ]
  },
  {
   "cell_type": "code",
   "execution_count": 42,
   "metadata": {},
   "outputs": [
    {
     "data": {
      "image/png": "[encoded data removed]",
      "text/plain": [
       "<Figure size 432x288 with 1 Axes>"
      ]
     },
     "metadata": {
      "needs_background": "light"
     },
     "output_type": "display_data"
    }
   ],
   "source": [
    "#plot formulas and surplusses\n",
    "range_p = np.arange(0.00,0.7,0.01)\n",
    "plt.plot([demand(p,valuations) for p in range_p], range_p,label=\"Demand Home\")\n",
    "plt.plot([supply(p,valuations_s)for p in range_p],range_p,label=\"Supply Home\")\n",
    "plt.plot([supplydp(p,valuations_dp)for p in range_p],range_p,label=\"Supply Home with direct payment\")\n",
    "plt.fill_between([demand(p,valuations) for p in range_p], range_p, pricedp , where=[(demand(p,valuations))<Q for p in range_p],facecolor='b',alpha=0.5,interpolate=True)\n",
    "plt.fill_between([supplydp(p,valuations_dp) for p in range_p], range_p, pricedp , where=[(supplydp(p,valuations_dp))<Q for p in range_p],facecolor='g',alpha=0.5, interpolate=True)\n",
    "plt.legend(loc=9)\n",
    "plt.xlabel('$Q$')\n",
    "plt.ylabel('$P$')\n",
    "plt.title('Milk market')\n",
    "plt.annotate('New Home equilibrium,', xy=(Q, pricedp), xytext=(600, 0.15),arrowprops=dict(facecolor='black', shrink=1.5))\n",
    "plt.annotate((\"CS\"),xy=(50,0.4))\n",
    "plt.annotate((\"PS\"),xy=(100,0.2))\n",
    "plt.show()"
   ]
  },
  {
   "cell_type": "code",
   "execution_count": 43,
   "metadata": {},
   "outputs": [
    {
     "name": "stdout",
     "output_type": "stream",
     "text": [
      "[39.29360599820962, 40.19167781481719, 79.48528381302681]\n",
      "[69.27707865409111, 65.08295343074782, 68.60000000000001, 65.76003208483893]\n"
     ]
    }
   ],
   "source": [
    "#calculate surplus\n",
    "\n",
    "#calculate surplus without direct payment\n",
    "CS= np.sum(valuations[valuations> price]-price )\n",
    "PS = np.sum(price -valuations_s[valuations_s<price])\n",
    "TS=CS+PS\n",
    "print([CS,PS,TS])\n",
    "\n",
    "\n",
    "#calculate surplus with direct payment\n",
    "CS= np.sum(valuations[valuations> pricedp]-pricedp )\n",
    "PS = np.sum(pricedp -valuations_dp[valuations_dp<price])\n",
    "# calculate the amount of payment to farmers\n",
    "DP = 0.1*Q\n",
    "TS=CS+PS-DP\n",
    "print([CS,PS,DP,TS])"
   ]
  },
  {
   "cell_type": "code",
   "execution_count": 74,
   "metadata": {},
   "outputs": [
    {
     "name": "stdout",
     "output_type": "stream",
     "text": [
      "[306, 692]\n"
     ]
    }
   ],
   "source": [
    "#we add a price floor at 0.4.\n",
    "Min_price=0.4\n",
    "Q_demandf = demand(Min_price,valuations)\n",
    "\n",
    "Q_supplyf = supply(Min_price,valuations_s)\n",
    "print([Q_demandf,Q_supplyf])"
   ]
  },
  {
   "cell_type": "code",
   "execution_count": 76,
   "metadata": {},
   "outputs": [
    {
     "data": {
      "image/png": "[encoded data removed]",
      "text/plain": [
       "<Figure size 432x288 with 1 Axes>"
      ]
     },
     "metadata": {
      "needs_background": "light"
     },
     "output_type": "display_data"
    }
   ],
   "source": [
    "range_p = np.arange(0.1,0.7,0.01)\n",
    "plt.plot([demand(p,valuations) for p in range_p], range_p,label=\"Demand Home\")\n",
    "plt.plot([supply(p,valuations)for p in range_p],range_p,label=\"Supply Home\")\n",
    "plt.plot([0,1000],[Min_price,Min_price],label=\"Price floor\")\n",
    "plt.fill_between([demand(p,valuations) for p in range_p], range_p, Min_price , where=[(demand(p,valuations))<Q_demandf for p in range_p],facecolor='b',alpha=0.5,interpolate=True)\n",
    "plt.fill_between([supply(p,valuations) for p in range_p], range_p, Min_price , where=[(supply(p,valuations))<Q_supplyf for p in range_p],facecolor='g',alpha=0.5,interpolate=True)\n",
    "plt.legend(loc=5)\n",
    "plt.xlabel('$Q$')\n",
    "plt.ylabel('$P$')\n",
    "plt.title('Milk market with price floor')\n",
    "plt.annotate((\"CS\"),xy=(100,0.42))\n",
    "plt.annotate((\"PS\"),xy=(100,0.3))\n",
    "plt.show()"
   ]
  },
  {
   "cell_type": "code",
   "execution_count": 66,
   "metadata": {},
   "outputs": [
    {
     "name": "stdout",
     "output_type": "stream",
     "text": [
      "[19.30193636055843, 70.47136275756768]\n"
     ]
    }
   ],
   "source": [
    "#Surplus calculation\n",
    "\n",
    "CS= np.sum(valuations[valuations> Min_price]-Min_price )\n",
    "PS = np.sum(Min_price -valuations_s[valuations_s<Min_price])\n",
    "DWL = \n",
    "print([CS,PS])"
   ]
  },
  {
   "cell_type": "code",
   "execution_count": 70,
   "metadata": {},
   "outputs": [
    {
     "ename": "SyntaxError",
     "evalue": "invalid syntax (<ipython-input-70-89eeb0f4cd8d>, line 7)",
     "output_type": "error",
     "traceback": [
      "\u001b[0;36m  File \u001b[0;32m\"<ipython-input-70-89eeb0f4cd8d>\"\u001b[0;36m, line \u001b[0;32m7\u001b[0m\n\u001b[0;31m    plt.fill_between([supply(p,valuations_s) for p in range_p], range_p, Min_price , where = [supply,facecolor='g',alpha=0.5,interpolate=True)\u001b[0m\n\u001b[0m                                                                                                              ^\u001b[0m\n\u001b[0;31mSyntaxError\u001b[0m\u001b[0;31m:\u001b[0m invalid syntax\n"
     ]
    }
   ],
   "source": []
  },
  {
   "cell_type": "code",
   "execution_count": null,
   "metadata": {},
   "outputs": [],
   "source": []
  },
  {
   "cell_type": "code",
   "execution_count": null,
   "metadata": {},
   "outputs": [],
   "source": []
  },
  {
   "cell_type": "markdown",
   "metadata": {},
   "source": [
    "# Sensitivity analysis (0.5 points)\n",
    "\n",
    "If you do a theory notebook, program different values for the parameters, use different functional forms and solve your model again for these new values. Show that the outcomes are robust to such changes.\n",
    "\n",
    "If you are using data, how sensitive are your results to outliers in the data, different choices when cleaning the data, different functional forms for the relations that you estimate.\n"
   ]
  },
  {
   "cell_type": "code",
   "execution_count": 2,
   "metadata": {
    "nbgrader": {
     "checksum": "3dd4c02198f7b81f943268cb3d0a12b2",
     "grade": true,
     "grade_id": "cell-a2231ee7e6d4e686",
     "locked": false,
     "points": 7,
     "schema_version": 1,
     "solution": true
    }
   },
   "outputs": [],
   "source": [
    "# YOUR CODE HERE\n",
    "raise NotImplementedError()"
   ]
  },
  {
   "cell_type": "markdown",
   "metadata": {},
   "source": [
    "# Discussion and conclusion (0.5 points)\n",
    "\n",
    "What did you find in the analysis above; what is the answer to the question you started out with.\n",
    "\n",
    "What are weaknesses of your approach that can be improved upon in future research (e.g. in your thesis).\n"
   ]
  },
  {
   "cell_type": "markdown",
   "metadata": {
    "deletable": false,
    "nbgrader": {
     "checksum": "52e1cf5783dd1971d265a8ea172e297a",
     "grade": true,
     "grade_id": "cell-4b5c9f698b295ad7",
     "locked": false,
     "points": 0.5,
     "schema_version": 1,
     "solution": true
    }
   },
   "source": [
    "YOUR ANSWER HERE"
   ]
  },
  {
   "cell_type": "code",
   "execution_count": null,
   "metadata": {},
   "outputs": [],
   "source": []
  }
 ],
 "metadata": {
  "kernelspec": {
   "display_name": "Python 3",
   "language": "python",
   "name": "python3"
  },
  "language_info": {
   "codemirror_mode": {
    "name": "ipython",
    "version": 3
   },
   "file_extension": ".py",
   "mimetype": "text/x-python",
   "name": "python",
   "nbconvert_exporter": "python",
   "pygments_lexer": "ipython3",
   "version": "3.8.6"
  },
  "toc": {
   "base_numbering": 1,
   "nav_menu": {},
   "number_sections": true,
   "sideBar": true,
   "skip_h1_title": false,
   "title_cell": "Table of Contents",
   "title_sidebar": "Contents",
   "toc_cell": false,
   "toc_position": {},
   "toc_section_display": true,
   "toc_window_display": true
  }
 },
 "nbformat": 4,
 "nbformat_minor": 4
}

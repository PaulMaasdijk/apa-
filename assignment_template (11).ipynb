{
 "cells": [
  {
   "cell_type": "markdown",
   "metadata": {},
   "source": [
    "Before you turn this problem in, make sure everything runs as expected. First, **restart the kernel** (in the menubar, select Kernel$\\rightarrow$Restart) and then **run all cells** (in the menubar, select Cell$\\rightarrow$Run All).\n",
    "\n",
    "Make sure you fill in any place that says `YOUR CODE HERE` or \"YOUR ANSWER HERE\", as well as your name and collaborators below:"
   ]
  },
  {
   "cell_type": "code",
   "execution_count": null,
   "metadata": {},
   "outputs": [],
   "source": [
    "NAME = \"Paul de Graaf\"\n",
    "COLLABORATORS = \"Luc de Vries\""
   ]
  },
  {
   "cell_type": "markdown",
   "metadata": {},
   "source": [
    "---"
   ]
  },
  {
   "cell_type": "markdown",
   "metadata": {},
   "source": [
    "# Python assignment\n",
    "\n",
    "The python assignment you can do either on your own or with one other student (i.e. max group size is 2 students).\n",
    "\n",
    "The first cell of your notebook, should contain a table with the names and SNRs and ANRs of the group members, like so\n",
    "\n",
    "|Name|SNR|ANR|\n",
    "|----|---|----|\n",
    "|Paul de Graaf|2026405|u663408|\n",
    "|Luc de Vries|2024422|u940400|\n",
    "\n",
    "\n",
    "\n",
    "See [the webpage](https://janboone.github.io/applied-economics/#org065a005) for details of what we expect to see in this assignment.\n",
    "\n"
   ]
  },
  {
   "cell_type": "markdown",
   "metadata": {},
   "source": [
    "# Research question (0.5 points)"
   ]
  },
  {
   "cell_type": "markdown",
   "metadata": {
    "deletable": false,
    "nbgrader": {
     "checksum": "b350c3082e112a5b2f1f6db0481fa5bd",
     "grade": true,
     "grade_id": "cell-7a61a5e9e6991ff4",
     "locked": false,
     "points": 0.5,
     "schema_version": 1,
     "solution": true
    }
   },
   "source": [
    "What is best method to achieve the goals of the Common agricultural policy?"
   ]
  },
  {
   "cell_type": "markdown",
   "metadata": {},
   "source": [
    "# Motivation (0.5 points)\n",
    "\n",
    "Motivate why this question is interesting."
   ]
  },
  {
   "cell_type": "markdown",
   "metadata": {
    "deletable": false,
    "nbgrader": {
     "checksum": "ab93f4d26eb3e0bcf88927ee71df6b63",
     "grade": true,
     "grade_id": "cell-3d71712c92143820",
     "locked": false,
     "points": 0.5,
     "schema_version": 1,
     "solution": true
    }
   },
   "source": [
    "the common agricultural policy is the policy of the EU regarding agriculture. This policy has been heavily debated inside and outside the european union.  The importance of the subject is shown by the huge amount of money that is used to support EU Farmers. The EU has spend 57.9 billion euros on agriculture while the total EU budget is 103.08 billion euros .The CAP has been changing over time. On 2 December 2021 there has been agreed upon a new CAP which will be practically implemented on the first of january 2023. (The common agricultural policy at a glance, 2022) So, it is important to understand the effects of certain policies to make the right decisions over time. Besides, in the Netherlands most farmers are tired of the rule changes which restricts them from making a fair income(Everaardt C,2021), because they have to invest to follow to regulations. Resulting in a decrease of farmers. Therefore, we should know what the best policy and use it consistently."
   ]
  },
  {
   "cell_type": "markdown",
   "metadata": {},
   "source": [
    "# Method (0.5 points)\n",
    "\n",
    "\n",
    "The Goals of the CAP are to support farmers and improve agricultural productivity, ensuring a stable supply of affordable food, safeguard European Union farmers to make a reasonable living, help tackle climate change and the sustainable management of natural resources, maintain rural areas and landscapes across the EU, keep the rural economy alive by promoting jobs in farming, agri-food industries and associated sectors(The common agricultural policy at a glance, 2022). As it is difficult to measure the effect of the different policies on climate change and maintaince of rural areas. We will focus on the stable supply, reasonable living and promoting jobs. We will measure it in the models as a supply and price/producer surplus. As a high supply naturally ensures supply and a high price/producer surplus ensures a reasonable living for the farmers. The EU can use three different types of interventions. First, it can pay a direct amount to the farmers to ensure a fair pay. Secondly, the EU can set a minimum price. Thirdly, it can buy goods in the market and sell it at a later time, to increase the price. However, in this model we will sell it immediately to the world market. We think it is a fair assumption as some goods such as milk can't be stored for long and have to be consumed in a short period of time. We will try to find out the results of the three intervention on the two goals, making use of a simulated normally distributed demand and supply line. We will check in the sensitivity analysis if the use of linear demand and supply lines change our results as well as a change in the vastness of the intervention. "
   ]
  },
  {
   "cell_type": "markdown",
   "metadata": {
    "deletable": false,
    "nbgrader": {
     "checksum": "84c7d0d85d8fb5e0073f3053f9bedf5a",
     "grade": true,
     "grade_id": "cell-8cbf4938fbebbb6e",
     "locked": false,
     "points": 0.5,
     "schema_version": 1,
     "solution": true
    }
   },
   "source": []
  },
  {
   "cell_type": "markdown",
   "metadata": {},
   "source": [
    "# Preview of the answers (0.5 points)\n",
    "\n",
    "Summarize the results that you find and the answer to your research question."
   ]
  },
  {
   "cell_type": "markdown",
   "metadata": {
    "deletable": false,
    "nbgrader": {
     "checksum": "938eb25dc709a2252d7013dc1cd8176a",
     "grade": true,
     "grade_id": "cell-1b3df4385bba508d",
     "locked": false,
     "points": 0.5,
     "schema_version": 1,
     "solution": true
    }
   },
   "source": [
    "The use of direct payments to the farmer increases the producer surplus, however it does not grow with the same amount of the direct payment due to the price decrease. Moreover, the supply increased as well.\n",
    "The use of a minimun price increased the PS due to the higher price, however there are fewer goods supplied. The reason is that there a not enough buyers for all supply at the higher price. \n",
    "Buying goods until the price rises to a certain level increases supply and increases price/producer surplus."
   ]
  },
  {
   "cell_type": "markdown",
   "metadata": {},
   "source": [
    "# Main assumptions (0.5 points)\n",
    "\n",
    "What are the main assumptions that you need to answer the question? If you do a theory notebook, what are the main assumptions of your model? If you use data, what assumptions are needed by your estimation method."
   ]
  },
  {
   "cell_type": "markdown",
   "metadata": {
    "deletable": false,
    "nbgrader": {
     "checksum": "2e95c3f2ef005a63968a0ade420f5af7",
     "grade": true,
     "grade_id": "cell-d84f19967b2baa1d",
     "locked": false,
     "points": 0.5,
     "schema_version": 1,
     "solution": true
    }
   },
   "source": [
    "An assumption is that there is no import of goods from outside the European Union due to for exemple import tariffs. We understand this is a big assumption as there is a possibility to sell the bought good in the EU at the world market. \n",
    "Besides, we assume that the good are immediately sold at the world market price. This is fair for some products, but not for all."
   ]
  },
  {
   "cell_type": "markdown",
   "metadata": {},
   "source": [
    "# Python code (6.5 points)\n",
    "\n",
    "\n",
    "Give the python code in code cells and use markdown cells to explain why you code things in this way and what the outcomes are of the code cells.\n",
    "\n",
    "Note that the explanation of your code is at least as important as the python code itself.\n",
    "\n",
    "Create as many python and markdown cells as you need to explain things well.\n"
   ]
  },
  {
   "cell_type": "code",
   "execution_count": 197,
   "metadata": {
    "deletable": false,
    "nbgrader": {
     "checksum": "3dd4c02198f7b81f943268cb3d0a12b2",
     "grade": true,
     "grade_id": "cell-a2231ee7e6d4e686",
     "locked": false,
     "points": 7,
     "schema_version": 1,
     "solution": true
    }
   },
   "outputs": [],
   "source": [
    "import pandas as pd\n",
    "import numpy as np\n",
    "import pymc3 as pm\n",
    "import matplotlib.pyplot as plt\n",
    "import matplotlib.patches as pl\n",
    "import seaborn as sns\n",
    "from scipy import stats, optimize\n",
    "import random\n",
    "import wbdata as wb\n",
    "\n",
    "plt.style.use('seaborn')\n",
    "%matplotlib inline"
   ]
  },
  {
   "cell_type": "code",
   "execution_count": 198,
   "metadata": {},
   "outputs": [],
   "source": [
    "#first we start with a simple model of a supply and demand curve.\n",
    "number_of_agents = 1000\n",
    "number_of_goods = 1000\n",
    "\n",
    "valuations = np.array(sorted(pm.Normal.dist(0.35,0.1).random(size=number_of_agents),reverse = True))\n",
    "\n",
    "valuations_s = np.array(sorted(pm.Normal.dist(0.35,0.1).random(size=number_of_goods),reverse = False))\n",
    "\n",
    "def demand(p,valuations) : \n",
    "    return np.sum(valuations>p)\n",
    "\n",
    "def supply(p,valuations_s) : \n",
    "    return np.sum(valuations_s<p)"
   ]
  },
  {
   "cell_type": "code",
   "execution_count": 199,
   "metadata": {},
   "outputs": [
    {
     "name": "stdout",
     "output_type": "stream",
     "text": [
      "[0.34566785]\n",
      "505\n"
     ]
    },
    {
     "name": "stderr",
     "output_type": "stream",
     "text": [
      "/opt/conda/lib/python3.8/site-packages/scipy/optimize/minpack.py:175: RuntimeWarning: The iteration is not making good progress, as measured by the \n",
      "  improvement from the last ten iterations.\n",
      "  warnings.warn(msg, RuntimeWarning)\n"
     ]
    }
   ],
   "source": [
    "#solve for Q and P\n",
    "def demand_minus_supply(p,valuations,valuations_s) : \n",
    "    return demand(p,valuations)-supply(p,valuations_s)\n",
    "\n",
    "price = optimize.fsolve(lambda p: demand_minus_supply(p,valuations,valuations_s),0.5)\n",
    "print(price)\n",
    "Q = demand(price,valuations)\n",
    "print(Q)"
   ]
  },
  {
   "cell_type": "code",
   "execution_count": 200,
   "metadata": {},
   "outputs": [
    {
     "data": {
      "image/png": "[encoded data removed]",
      "text/plain": [
       "<Figure size 432x288 with 1 Axes>"
      ]
     },
     "metadata": {
      "needs_background": "light"
     },
     "output_type": "display_data"
    }
   ],
   "source": [
    "#plot formulas and surplusses\n",
    "range_p = np.arange(0.0,0.7,0.01)\n",
    "range_d = np.arange(0.0,Q,1)\n",
    "plt.plot([demand(p,valuations) for p in range_p], range_p,label=\"Demand Home\")\n",
    "plt.plot([supply(p,valuations_s)for p in range_p],range_p,label=\"Supply Home\")\n",
    "plt.fill_between(range_d,valuations[0:Q],price,facecolor='b',alpha=0.5,interpolate=True)\n",
    "plt.fill_between(range_d,valuations_s[0:Q],price,facecolor='g',alpha=0.5,interpolate=True)\n",
    "plt.legend(loc=5)\n",
    "plt.xlabel('$Q$')\n",
    "plt.ylabel('$P$')\n",
    "plt.title('Perfectly competitive Milk market')\n",
    "plt.annotate('Home equilibrium,', xy=(Q, price), xytext=(200, 0.55),arrowprops=dict(facecolor='black', shrink=1.5))\n",
    "plt.annotate((\"CS\"),xy=(50,0.4))\n",
    "plt.annotate((\"PS\"),xy=(50,0.28))\n",
    "plt.show()"
   ]
  },
  {
   "cell_type": "code",
   "execution_count": 201,
   "metadata": {},
   "outputs": [
    {
     "name": "stdout",
     "output_type": "stream",
     "text": [
      "[41.25800384693665, 39.85456595308522, 81.11256980002187]\n"
     ]
    }
   ],
   "source": [
    "#calculate surplus\n",
    "CS= np.sum(valuations[valuations> price]-price )\n",
    "PS = np.sum(price -valuations_s[valuations_s<price])\n",
    "TS=CS+PS\n",
    "print([CS,PS,TS])"
   ]
  },
  {
   "cell_type": "markdown",
   "metadata": {},
   "source": [
    "# Direct Payment"
   ]
  },
  {
   "cell_type": "code",
   "execution_count": 202,
   "metadata": {},
   "outputs": [
    {
     "name": "stdout",
     "output_type": "stream",
     "text": [
      "0.3459477582845668\n",
      "0.2459477582845669\n"
     ]
    }
   ],
   "source": [
    "#Direct payment to farmers\n",
    "#we assume that a payment to farmers increases supply, So the supply at a lower price\n",
    "valuations_dp = valuations_s-0.1\n",
    "print(valuations_s.mean())\n",
    "print(valuations_dp.mean())\n",
    "\n",
    "def supplydp(p,valuations_dp) : \n",
    "    return np.sum(valuations_dp<p)"
   ]
  },
  {
   "cell_type": "code",
   "execution_count": 203,
   "metadata": {},
   "outputs": [
    {
     "name": "stdout",
     "output_type": "stream",
     "text": [
      "[0.34566785]\n",
      "505\n",
      "[0.29656166]\n",
      "699\n"
     ]
    },
    {
     "name": "stderr",
     "output_type": "stream",
     "text": [
      "/opt/conda/lib/python3.8/site-packages/scipy/optimize/minpack.py:175: RuntimeWarning: The iteration is not making good progress, as measured by the \n",
      "  improvement from the last ten iterations.\n",
      "  warnings.warn(msg, RuntimeWarning)\n"
     ]
    }
   ],
   "source": [
    "#solve for Q and P with and without direct payment\n",
    "#without direct payment\n",
    "print(price)\n",
    "print(Q)\n",
    "#with direct payment\n",
    "def demand_minus_supplydp(p,valuations,valuations_dp) : \n",
    "    return demand(p,valuations)-supplydp(p,valuations_dp)\n",
    "\n",
    "pricedp = optimize.fsolve(lambda p: demand_minus_supply(p,valuations,valuations_dp),0.5)\n",
    "print(pricedp)\n",
    "Qdp = demand(pricedp,valuations)\n",
    "print(Qdp)"
   ]
  },
  {
   "cell_type": "code",
   "execution_count": 204,
   "metadata": {},
   "outputs": [
    {
     "data": {
      "image/png": "[encoded data removed]",
      "text/plain": [
       "<Figure size 432x288 with 1 Axes>"
      ]
     },
     "metadata": {
      "needs_background": "light"
     },
     "output_type": "display_data"
    }
   ],
   "source": [
    "#plot formulas and surplusses\n",
    "range_p = np.arange(0.00,0.7,0.01)\n",
    "range_d = np.arange(0.0,Qdp,1)\n",
    "plt.plot([demand(p,valuations) for p in range_p], range_p,label=\"Demand Home\")\n",
    "plt.plot([supply(p,valuations_s)for p in range_p],range_p,label=\"Supply Home\")\n",
    "plt.plot([supplydp(p,valuations_dp)for p in range_p],range_p,label=\"Supply Home with direct payment\")\n",
    "plt.fill_between(range_d,valuations[0:Qdp],pricedp,facecolor='b',alpha=0.5,interpolate=True)\n",
    "plt.fill_between(range_d,valuations_dp[0:Qdp],pricedp,facecolor='g',alpha=0.5,interpolate=True)\n",
    "plt.legend(loc=9)\n",
    "plt.xlabel('$Q$')\n",
    "plt.ylabel('$P$')\n",
    "plt.title('Milk market with direct payment')\n",
    "plt.annotate('New Home equilibrium,', xy=(Qdp, pricedp), xytext=(600, 0.15),arrowprops=dict(facecolor='black', shrink=1.5))\n",
    "plt.annotate((\"CS\"),xy=(50,0.4))\n",
    "plt.annotate((\"PS\"),xy=(100,0.2))\n",
    "plt.show()"
   ]
  },
  {
   "cell_type": "code",
   "execution_count": 205,
   "metadata": {},
   "outputs": [
    {
     "name": "stdout",
     "output_type": "stream",
     "text": [
      "[41.25800384693665, 39.85456595308522, 81.11256980002187]\n",
      "[70.99207632596124, 67.69648757551936, 69.9, 68.78856390148059]\n"
     ]
    }
   ],
   "source": [
    "#calculate surplus\n",
    "print([CS,PS,TS])\n",
    "\n",
    "#calculate surplus with direct payment\n",
    "CSdp= np.sum(valuations[valuations> pricedp]-pricedp )\n",
    "PSdp = np.sum(pricedp -valuations_dp[valuations_dp<price])\n",
    "# calculate the amount of payment to farmers\n",
    "DP = 0.1*Qdp\n",
    "TSdp=CSdp+PSdp-DP\n",
    "print([CSdp,PSdp,DP,TSdp])"
   ]
  },
  {
   "cell_type": "markdown",
   "metadata": {},
   "source": [
    "We find that a giving a direct payment to farmers will increase the amount of supply, So more home supply and less dependency. Therefore, one objective of the CAP is achieved. However, the price of the product decreased. So, farmers get a lower price than without the direct payment. This is where we loss Surplus, due to the lower price the PS does not increase with the same amount as the direct payments. Although the CS is higher than without the direct payments the Total surplus is lower than before. "
   ]
  },
  {
   "cell_type": "markdown",
   "metadata": {},
   "source": [
    "# Price floor"
   ]
  },
  {
   "cell_type": "code",
   "execution_count": 206,
   "metadata": {},
   "outputs": [
    {
     "name": "stdout",
     "output_type": "stream",
     "text": [
      "[302, 712]\n",
      "505\n",
      "[0.34566785]\n"
     ]
    }
   ],
   "source": [
    "#we add a price floor at 0.4\n",
    "Min_price=0.4\n",
    "Q_demandf = demand(Min_price,valuations)\n",
    "\n",
    "Q_supplyf = supply(Min_price,valuations_s)\n",
    "\n",
    "print([Q_demandf,Q_supplyf])\n",
    "print(Q)\n",
    "print(price)"
   ]
  },
  {
   "cell_type": "code",
   "execution_count": 207,
   "metadata": {},
   "outputs": [
    {
     "data": {
      "image/png": "[encoded data removed]",
      "text/plain": [
       "<Figure size 432x288 with 1 Axes>"
      ]
     },
     "metadata": {
      "needs_background": "light"
     },
     "output_type": "display_data"
    }
   ],
   "source": [
    "range_d = np.arange(0.0,Q_demandf,1)\n",
    "range_f = np.arange(Q_demandf,Q,1)\n",
    "Sup_Q = valuations_s[Q_demandf]\n",
    "plt.plot([demand(p,valuations) for p in range_p], range_p,label=\"Demand Home\")\n",
    "plt.plot([supply(p,valuations_s)for p in range_p],range_p,label=\"Supply Home\")\n",
    "plt.plot([0,1000],[Min_price,Min_price],label=\"Price floor\")\n",
    "plt.vlines(x = Q_demandf, ymin=Sup_Q, ymax = Min_price, color = \"Black\",linestyle = \"-\")\n",
    "plt.fill_between(range_d,valuations[0:Q_demandf],Min_price,facecolor='b',alpha=0.5,interpolate=True)\n",
    "plt.fill_between(range_d,valuations_s[0:Q_demandf],Min_price,facecolor='g',alpha=0.5,interpolate=True)\n",
    "plt.fill_between(range_f,valuations[range_f],valuations_s[range_f],facecolor = 'r',alpha=0.5,interpolate=True)\n",
    "plt.legend(loc=9)\n",
    "plt.xlabel('$Q$')\n",
    "plt.ylabel('$P$')\n",
    "plt.title('Milk market with price floor')\n",
    "plt.annotate((\"CS\"),xy=(75,0.42))\n",
    "plt.annotate((\"PS\"),xy=(75,0.3))\n",
    "plt.annotate((\"DWL\"),xy=(330,0.34))\n",
    "plt.show()"
   ]
  },
  {
   "cell_type": "code",
   "execution_count": 208,
   "metadata": {},
   "outputs": [
    {
     "name": "stdout",
     "output_type": "stream",
     "text": [
      "[41.25800384693665, 39.85456595308522, 81.11256980002187]\n",
      "[19.370359292877104, 50.873558139536854, 10.86861500302588, 59.37530242938807]\n"
     ]
    }
   ],
   "source": [
    "#Surplus calculation\n",
    "CSf= np.sum(valuations[valuations> Min_price]-Min_price )\n",
    "PSf = np.sum(Min_price -valuations_s[0:Q_demandf])\n",
    "DWLf= np.sum(valuations[Q_demandf:Q]-valuations_s[Q_demandf:Q])\n",
    "TSf= CSf+PSf-DWLf\n",
    "print([CS,PS,TS])\n",
    "print([CSf,PSf,DWLf,TSf])"
   ]
  },
  {
   "cell_type": "markdown",
   "metadata": {},
   "source": [
    "So, based on these results we conclude that a minimum price will increase Producer surplus. However, it will not increase supply. "
   ]
  },
  {
   "cell_type": "markdown",
   "metadata": {},
   "source": [
    "# Buyout of Goods"
   ]
  },
  {
   "cell_type": "code",
   "execution_count": 209,
   "metadata": {},
   "outputs": [
    {
     "data": {
      "image/png": "[encoded data removed]",
      "text/plain": [
       "<Figure size 432x288 with 1 Axes>"
      ]
     },
     "metadata": {
      "needs_background": "light"
     },
     "output_type": "display_data"
    }
   ],
   "source": [
    "#Buyout of goods to increase price. \n",
    "pricetarget=0.4\n",
    "worldprice=0.3\n",
    "range_p = np.arange(0.0,0.7,0.01)\n",
    "range_d = np.arange(0.0,Q,1)\n",
    "plt.plot([demand(p,valuations) for p in range_p], range_p,label=\"Demand Home\")\n",
    "plt.plot([supply(p,valuations_s)for p in range_p],range_p,label=\"Supply Home\")\n",
    "plt.plot([0,1000],[pricetarget,pricetarget],label=\"Price Target\")\n",
    "plt.plot([0,1000],[worldprice,worldprice],label=\"World Price\")\n",
    "plt.fill_between(range_d,valuations[0:Q],price,facecolor='b',alpha=0.5,interpolate=True)\n",
    "plt.fill_between(range_d,valuations_s[0:Q],price,facecolor='g',alpha=0.5,interpolate=True)\n",
    "plt.legend(loc=9)\n",
    "plt.xlabel('$Q$')\n",
    "plt.ylabel('$P$')\n",
    "plt.title('Milk market when there is a buyout of goods')\n",
    "plt.annotate((\"CS\"),xy=(100,0.4))\n",
    "plt.annotate((\"PS\"),xy=(100,0.3))\n",
    "plt.show()"
   ]
  },
  {
   "cell_type": "code",
   "execution_count": 210,
   "metadata": {},
   "outputs": [
    {
     "name": "stdout",
     "output_type": "stream",
     "text": [
      "[302, 712]\n",
      "505\n",
      "[0.34566785]\n"
     ]
    }
   ],
   "source": [
    "Q_demandm = demand(pricetarget,valuations)\n",
    "\n",
    "Q_supplym = supply(pricetarget,valuations_s)\n",
    "\n",
    "print([Q_demandm,Q_supplym])\n",
    "print(Q)\n",
    "print(price)"
   ]
  },
  {
   "cell_type": "code",
   "execution_count": 211,
   "metadata": {},
   "outputs": [
    {
     "data": {
      "image/png": "[encoded data removed]",
      "text/plain": [
       "<Figure size 432x288 with 1 Axes>"
      ]
     },
     "metadata": {
      "needs_background": "light"
     },
     "output_type": "display_data"
    }
   ],
   "source": [
    "# the EU thinks that the price is too low and wants to increase the price to 0.4 to ensure that the farmers has a fair income. \n",
    "# the EU can do this by bying the amount of difference between the home demand and home supply assuming that the tariffs on world good is high enoungh to make it not cheaper than 0.4 for consumers.\n",
    "# this will costs the difference between the targetprice and the worldprice, because they will sell it at a world market price.\n",
    "range_d = np.arange(0.0,Q_demandf,1)\n",
    "range_m = np.arange(0.0,Q_supplym,1)\n",
    "range_f = np.arange(Q_demandm,Q_supplym,1)\n",
    "Sup_Q = valuations_s[Q_demandm]\n",
    "plt.plot([demand(p,valuations) for p in range_p], range_p,label=\"Demand Home\")\n",
    "plt.plot([supply(p,valuations_s)for p in range_p],range_p,label=\"Supply Home\")\n",
    "plt.plot([0,1000],[Min_price,Min_price],label=\"Pricetarget\")\n",
    "plt.plot([0,1000],[worldprice,worldprice],label=\"World Price\")\n",
    "plt.vlines(x = Q_demandm, ymin=Sup_Q, ymax = pricetarget, color = \"Black\",linestyle = \"-\")\n",
    "plt.vlines(x = Q_supplym, ymin=Sup_Q, ymax = pricetarget, color = \"Black\",linestyle = \"-\")\n",
    "plt.fill_between(range_d,valuations[0:Q_demandm],pricetarget,facecolor='b',alpha=0.5,interpolate=True)\n",
    "plt.fill_between(range_m,valuations_s[0:Q_supplym],pricetarget,facecolor='g',alpha=0.5,interpolate=True)\n",
    "plt.fill_between(range_f,worldprice,pricetarget,facecolor = 'r',alpha=0.2,interpolate=True)\n",
    "plt.legend(loc=9)\n",
    "plt.xlabel('$Q$')\n",
    "plt.ylabel('$P$')\n",
    "plt.title('Milk market when there is a buyout of goods')\n",
    "plt.annotate((\"CS\"),xy=(75,0.42))\n",
    "plt.annotate((\"PS\"),xy=(200,0.35))\n",
    "plt.annotate((\"DWL\"),xy=(600,0.34))\n",
    "plt.show()\n"
   ]
  },
  {
   "cell_type": "code",
   "execution_count": 212,
   "metadata": {},
   "outputs": [
    {
     "name": "stdout",
     "output_type": "stream",
     "text": [
      "[41.25800384693665, 39.85456595308522, 81.11256980002187]\n",
      "[19.370359292877104, 73.26557908589298, 41.000000000000014, 51.635938378770064]\n"
     ]
    }
   ],
   "source": [
    "#Surplus calculation\n",
    "CSm= np.sum(valuations[valuations> pricetarget]-pricetarget )\n",
    "PSm = np.sum(pricetarget -valuations_s[0:Q_supplym])\n",
    "DWLm= (Q_supplym-Q_demandm)*(pricetarget-worldprice)\n",
    "TSm= CSm+PSm-DWLm\n",
    "print([CS,PS,TS])\n",
    "print([CSm,PSm,DWLm,TSm])"
   ]
  },
  {
   "cell_type": "markdown",
   "metadata": {},
   "source": [
    "The buyout offers the two main goals of the CAP to be achieved, namely the farmers earn a higher wage and there will more home suppliers than before. Making it less dependent on the rest of the world"
   ]
  },
  {
   "cell_type": "markdown",
   "metadata": {},
   "source": [
    "# Sensitivity analysis (0.5 points)\n",
    "\n",
    "If you do a theory notebook, program different values for the parameters, use different functional forms and solve your model again for these new values. Show that the outcomes are robust to such changes.\n",
    "\n",
    "If you are using data, how sensitive are your results to outliers in the data, different choices when cleaning the data, different functional forms for the relations that you estimate.\n"
   ]
  },
  {
   "cell_type": "markdown",
   "metadata": {},
   "source": [
    "we will shift the direct payment, minimumprice, pricetarget as well as the worldprice to see if this changes our results. "
   ]
  },
  {
   "cell_type": "code",
   "execution_count": 213,
   "metadata": {
    "nbgrader": {
     "checksum": "3dd4c02198f7b81f943268cb3d0a12b2",
     "grade": true,
     "grade_id": "cell-a2231ee7e6d4e686",
     "locked": false,
     "points": 7,
     "schema_version": 1,
     "solution": true
    }
   },
   "outputs": [
    {
     "name": "stdout",
     "output_type": "stream",
     "text": [
      "[0.34566785] 505\n",
      "[0.32059115]\n",
      "613\n",
      "[41.25800384693665, 39.85456595308522, 81.11256980002187]\n",
      "[55.20421104351904, 53.764009664660165, 30.650000000000002, 78.3182207081792]\n"
     ]
    }
   ],
   "source": [
    "#a lower direct payment of 0.05\n",
    "valuations_n = valuations_s-0.05\n",
    "\n",
    "def supplyn(p,valuations_n) : \n",
    "    return np.sum(valuations_n<p)\n",
    "print(price,Q)\n",
    "#with direct payment\n",
    "def demand_minus_supplyn(p,valuations,valuations_n) : \n",
    "    return demand(p,valuations)-supplydp(p,valuations_n)\n",
    "\n",
    "pricen = optimize.fsolve(lambda p: demand_minus_supplyn(p,valuations,valuations_n),0.5)\n",
    "print(pricen)\n",
    "Qn = demand(pricen,valuations)\n",
    "print(Qn)\n",
    "\n",
    "#calculate surplus with direct payment 0.5 instead of 1\n",
    "CSn= np.sum(valuations[valuations> pricen]-pricen )\n",
    "PSn = np.sum(pricen -valuations_n[valuations_n<pricen])\n",
    "# calculate the amount of payment to farmers\n",
    "DP = 0.05*Qn\n",
    "TSn=CSn+PSn-DP\n",
    "print([CS,PS,TS])\n",
    "print([CSn,PSn,DP,TSn])"
   ]
  },
  {
   "cell_type": "code",
   "execution_count": 214,
   "metadata": {},
   "outputs": [
    {
     "name": "stdout",
     "output_type": "stream",
     "text": [
      "[0.34566785] 505\n",
      "[0.27176768] 769\n",
      "[41.25800384693665, 39.85456595308522, 81.11256980002187]\n",
      "[89.25827711036916, 89.41075877102077, 115.35, 63.31903588138994]\n"
     ]
    }
   ],
   "source": [
    "# a higher direct payment of 0.15\n",
    "valuations_n = valuations_s-0.15\n",
    "\n",
    "def supplyn(p,valuations_n) : \n",
    "    return np.sum(valuations_n<p)\n",
    "print(price,Q)\n",
    "\n",
    "#with direct payment\n",
    "def demand_minus_supplyn(p,valuations,valuations_n) : \n",
    "    return demand(p,valuations)-supplydp(p,valuations_n)\n",
    "\n",
    "pricen = optimize.fsolve(lambda p: demand_minus_supplyn(p,valuations,valuations_n),0.5)\n",
    "Qn = demand(pricen,valuations)\n",
    "print(pricen, Qn)\n",
    "\n",
    "#calculate surplus with direct payment 0.5 instead of 1\n",
    "CSn= np.sum(valuations[valuations> pricen]-pricen )\n",
    "PSn = np.sum(pricen -valuations_n[valuations_n<pricen])\n",
    "# calculate the amount of payment to farmers\n",
    "DP = 0.15*Qn\n",
    "TSn=CSn+PSn-DP\n",
    "print([CS,PS,TS])\n",
    "print([CSn,PSn,DP,TSn])"
   ]
  },
  {
   "cell_type": "code",
   "execution_count": 215,
   "metadata": {},
   "outputs": [
    {
     "name": "stdout",
     "output_type": "stream",
     "text": [
      "[376, 646]\n",
      "[0.34566785] 505\n",
      "[41.25800384693665, 39.85456595308522, 81.11256980002187]\n",
      "[26.16573066591626, 50.49978549730441, 4.447016272219163, 72.21849989100151]\n"
     ]
    }
   ],
   "source": [
    "# a lowering of the minimum price to 0.38\n",
    "Min_price=0.38\n",
    "Q_demandf = demand(Min_price,valuations)\n",
    "\n",
    "Q_supplyf = supply(Min_price,valuations_s)\n",
    "\n",
    "print([Q_demandf,Q_supplyf])\n",
    "print(price, Q)\n",
    "\n",
    "CSf= np.sum(valuations[valuations> Min_price]-Min_price )\n",
    "PSf = np.sum(Min_price -valuations_s[0:Q_demandf])\n",
    "DWLf= np.sum(valuations[Q_demandf:Q]-valuations_s[Q_demandf:Q])\n",
    "TSf= CSf+PSf-DWLf\n",
    "print([CS,PS,TS])\n",
    "print([CSf,PSf,DWLf,TSf])"
   ]
  },
  {
   "cell_type": "code",
   "execution_count": 216,
   "metadata": {},
   "outputs": [
    {
     "name": "stdout",
     "output_type": "stream",
     "text": [
      "[235, 765]\n",
      "[0.34566785] 505\n",
      "[41.25800384693665, 39.85456595308522, 81.11256980002187]\n",
      "[14.097256625267459, 47.905138623311565, 19.110137186860804, 42.892258061718216]\n"
     ]
    }
   ],
   "source": [
    "# an increasement of the minimum price to 0.42\n",
    "Min_price=0.42\n",
    "Q_demandf = demand(Min_price,valuations)\n",
    "\n",
    "Q_supplyf = supply(Min_price,valuations_s)\n",
    "\n",
    "print([Q_demandf,Q_supplyf])\n",
    "print(price, Q)\n",
    "\n",
    "CSf= np.sum(valuations[valuations> Min_price]-Min_price )\n",
    "PSf = np.sum(Min_price -valuations_s[0:Q_demandf])\n",
    "DWLf= np.sum(valuations[Q_demandf:Q]-valuations_s[Q_demandf:Q])\n",
    "TSf= CSf+PSf-DWLf\n",
    "print([CS,PS,TS])\n",
    "print([CSf,PSf,DWLf,TSf])"
   ]
  },
  {
   "cell_type": "code",
   "execution_count": 217,
   "metadata": {},
   "outputs": [
    {
     "name": "stdout",
     "output_type": "stream",
     "text": [
      "[235, 765]\n",
      "[0.34566785] 505\n",
      "[41.25800384693665, 39.85456595308522, 81.11256980002187]\n",
      "[14.097256625267459, 88.05425203953243, 63.599999999999994, 38.5515086647999]\n"
     ]
    }
   ],
   "source": [
    "#we adjust the pricetarget to 0.42\n",
    "pricetarget=0.42\n",
    "worldprice=0.3\n",
    "Q_demandm = demand(pricetarget,valuations)\n",
    "\n",
    "Q_supplym = supply(pricetarget,valuations_s)\n",
    "\n",
    "print([Q_demandm,Q_supplym])\n",
    "print(price,Q)\n",
    "#Surplus calculation\n",
    "CSm= np.sum(valuations[valuations> pricetarget]-pricetarget )\n",
    "PSm = np.sum(pricetarget -valuations_s[0:Q_supplym])\n",
    "DWLm= (Q_supplym-Q_demandm)*(pricetarget-worldprice)\n",
    "TSm= CSm+PSm-DWLm\n",
    "print([CS,PS,TS])\n",
    "print([CSm,PSm,DWLm,TSm])\n"
   ]
  },
  {
   "cell_type": "code",
   "execution_count": 218,
   "metadata": {},
   "outputs": [
    {
     "name": "stdout",
     "output_type": "stream",
     "text": [
      "[376, 646]\n",
      "[0.34566785] 505\n",
      "[41.25800384693665, 39.85456595308522, 81.11256980002187]\n",
      "[26.16573066591626, 59.70298184421181, 12.396803653092604, 73.47190885703547]\n"
     ]
    }
   ],
   "source": [
    "#we adjust the pricetarget to 0.38\n",
    "pricetarget=0.38\n",
    "worldprice=0.3\n",
    "Q_demandm = demand(pricetarget,valuations)\n",
    "\n",
    "Q_supplym = supply(pricetarget,valuations_s)\n",
    "\n",
    "print([Q_demandm,Q_supplym])\n",
    "print(price,Q)\n",
    "#Surplus calculation\n",
    "CSm= np.sum(valuations[valuations> pricetarget]-pricetarget )\n",
    "PSm = np.sum(pricetarget -valuations_s[0:Q_supplym])\n",
    "DWLm= np.sum(valuations_s[Q_demandm:Q_supplym]-worldprice)\n",
    "TSm= CSm+PSm-DWLm\n",
    "print([CS,PS,TS])\n",
    "print([CSm,PSm,DWLm,TSm])"
   ]
  },
  {
   "cell_type": "code",
   "execution_count": 219,
   "metadata": {},
   "outputs": [
    {
     "name": "stdout",
     "output_type": "stream",
     "text": [
      "[302, 712]\n",
      "[0.34566785] 505\n",
      "[41.25800384693665, 39.85456595308522, 81.11256980002187]\n",
      "[19.370359292877104, 73.26557908589298, 26.807979053643866, 65.82795932512622]\n"
     ]
    }
   ],
   "source": [
    "#we adjust the worldprice to 0.28\n",
    "pricetarget=0.4\n",
    "worldprice=0.28\n",
    "Q_demandm = demand(pricetarget,valuations)\n",
    "\n",
    "Q_supplym = supply(pricetarget,valuations_s)\n",
    "\n",
    "print([Q_demandm,Q_supplym])\n",
    "print(price,Q)\n",
    "#Surplus calculation\n",
    "CSm= np.sum(valuations[valuations> pricetarget]-pricetarget )\n",
    "PSm = np.sum(pricetarget -valuations_s[0:Q_supplym])\n",
    "DWLm= np.sum(valuations_s[Q_demandm:Q_supplym]-worldprice)\n",
    "TSm= CSm+PSm-DWLm\n",
    "print([CS,PS,TS])\n",
    "print([CSm,PSm,DWLm,TSm])"
   ]
  },
  {
   "cell_type": "code",
   "execution_count": 220,
   "metadata": {},
   "outputs": [
    {
     "name": "stdout",
     "output_type": "stream",
     "text": [
      "[302, 712]\n",
      "[0.34566785] 505\n",
      "[41.25800384693665, 39.85456595308522, 81.11256980002187]\n",
      "[19.370359292877104, 73.26557908589298, 10.407979053643874, 82.2279593251262]\n"
     ]
    }
   ],
   "source": [
    "#we adjust the worldprice to 0.28\n",
    "pricetarget=0.4\n",
    "worldprice=0.32\n",
    "Q_demandm = demand(pricetarget,valuations)\n",
    "\n",
    "Q_supplym = supply(pricetarget,valuations_s)\n",
    "\n",
    "print([Q_demandm,Q_supplym])\n",
    "print(price,Q)\n",
    "#Surplus calculation\n",
    "CSm= np.sum(valuations[valuations> pricetarget]-pricetarget )\n",
    "PSm = np.sum(pricetarget -valuations_s[0:Q_supplym])\n",
    "DWLm= np.sum(valuations_s[Q_demandm:Q_supplym]-worldprice)\n",
    "TSm= CSm+PSm-DWLm\n",
    "print([CS,PS,TS])\n",
    "print([CSm,PSm,DWLm,TSm])"
   ]
  },
  {
   "cell_type": "code",
   "execution_count": 221,
   "metadata": {},
   "outputs": [
    {
     "name": "stdout",
     "output_type": "stream",
     "text": [
      "[0.35]\n",
      "[500.]\n"
     ]
    }
   ],
   "source": [
    "#linear demand and supply curves\n",
    "def demandl(p) : \n",
    "    return 1000-(1/0.0007)*p\n",
    "\n",
    "def supplyl(p) : \n",
    "    return (1000/0.7)*p\n",
    "\n",
    "def demand_minus_supplyl(p) : \n",
    "    return demandl(p)-supplyl(p)\n",
    "\n",
    "pricel = optimize.fsolve(lambda p: demand_minus_supplyl(p),0.5)\n",
    "print(pricel)\n",
    "Ql = demandl(pricel)\n",
    "print(Ql)"
   ]
  },
  {
   "cell_type": "code",
   "execution_count": 222,
   "metadata": {},
   "outputs": [
    {
     "name": "stdout",
     "output_type": "stream",
     "text": [
      "[87.5] [87.5] [175.]\n"
     ]
    }
   ],
   "source": [
    "#Surplus calculation\n",
    "CSl= (0.7-pricel)*Ql*0.5\n",
    "PSl = pricel*Ql*0.5\n",
    "TSl= CSl+PSl\n",
    "print(CSl,PSl,TSl)"
   ]
  },
  {
   "cell_type": "code",
   "execution_count": 223,
   "metadata": {},
   "outputs": [
    {
     "name": "stdout",
     "output_type": "stream",
     "text": [
      "[0.35] [500.]\n",
      "[0.3]\n",
      "[571.42857143]\n",
      "[87.5] [87.5] [175.]\n",
      "[114.28571429] [85.71428571] [57.14285714] [142.85714286]\n"
     ]
    }
   ],
   "source": [
    "#direct payment of 0.1\n",
    "direct_payment=0.1\n",
    "def supplyln(p) : \n",
    "    return (1000/0.7)*p+(direct_payment*1000)/0.7\n",
    "print(pricel,Ql)\n",
    "#with direct payment\n",
    "def demand_minus_supplyln(p) : \n",
    "    return demandl(p)-supplyln(p)\n",
    "\n",
    "priceln = optimize.fsolve(lambda p: demand_minus_supplyln(p),0.5)\n",
    "print(priceln)\n",
    "Qln = demandl(priceln)\n",
    "print(Qln)\n",
    "\n",
    "print(CSl,PSl,TSl)\n",
    "# calculate the amount of payment to farmers\n",
    "CSln= (0.7-priceln)*Qln*0.5\n",
    "PSln = priceln*Qln*0.5\n",
    "DPln = 0.1*Qln\n",
    "TSln= CSln+PSln-DPln\n",
    "print(CSln,PSln,DPln,TSln)"
   ]
  },
  {
   "cell_type": "code",
   "execution_count": 224,
   "metadata": {},
   "outputs": [
    {
     "name": "stdout",
     "output_type": "stream",
     "text": [
      "[235, 765]\n",
      "[0.35] [500.]\n",
      "[87.5] [87.5] [175.]\n",
      "64.28571428571426 107.14285714285714 171.4285714285714\n"
     ]
    }
   ],
   "source": [
    "# minimum price of 0.4\n",
    "Min_price=0.4\n",
    "Q_demandlf = demandl(Min_price)\n",
    "Q_supplylf = supplyl(Min_price)\n",
    "#p of supply curve at Q_demandlf\n",
    "p_supply=0.7/1000*Q_demandlf\n",
    "print([Q_demandf,Q_supplyf])\n",
    "print(pricel, Ql)\n",
    "\n",
    "CSlf= (0.7-Min_price)*Q_demandlf*0.5\n",
    "PSlf = p_supply*Q_demandlf*0.5+Q_demandlf*(Min_price-p_supply)\n",
    "TSlf= CSlf+PSlf\n",
    "print(CSl,PSl,TSl)\n",
    "print(CSlf,PSlf,TSlf)"
   ]
  },
  {
   "cell_type": "code",
   "execution_count": 225,
   "metadata": {},
   "outputs": [
    {
     "name": "stdout",
     "output_type": "stream",
     "text": [
      "[428.57142857142856, 571.4285714285714]\n",
      "[0.35] [500.]\n",
      "[87.5] [87.5] [175.]\n",
      "64.28571428571426 114.28571428571429 14.285714285714294 164.28571428571425\n"
     ]
    }
   ],
   "source": [
    "#buyout with pricetarget 0.4\n",
    "pricetarget=0.40\n",
    "worldprice=0.3\n",
    "Q_demandlm = demandl(pricetarget)\n",
    "Q_supplylm = supplyl(pricetarget)\n",
    "print([Q_demandlm,Q_supplylm])\n",
    "print(pricel,Ql)\n",
    "#Surplus calculation\n",
    "CSlm= (0.7-pricetarget)*Q_demandlm*0.5\n",
    "PSlm = Q_supplylm*pricetarget*0.5\n",
    "DWLlm= (Q_supplylm-Q_demandlm)*(pricetarget-worldprice)\n",
    "TSlm= CSlm+PSlm-DWLlm\n",
    "print(CSl,PSl,TSl)\n",
    "print(CSlm,PSlm,DWLlm,TSlm)"
   ]
  },
  {
   "cell_type": "markdown",
   "metadata": {},
   "source": [
    "# Discussion and conclusion (0.5 points)\n",
    "\n",
    "What did you find in the analysis above; what is the answer to the question you started out with.\n",
    "\n",
    "What are weaknesses of your approach that can be improved upon in future research (e.g. in your thesis).\n"
   ]
  },
  {
   "cell_type": "markdown",
   "metadata": {
    "deletable": false,
    "nbgrader": {
     "checksum": "52e1cf5783dd1971d265a8ea172e297a",
     "grade": true,
     "grade_id": "cell-4b5c9f698b295ad7",
     "locked": false,
     "points": 0.5,
     "schema_version": 1,
     "solution": true
    }
   },
   "source": [
    "We found that a direct payment to farmers and the buyout of goods both achieve the two goals of the CAP, but both decrease total welfare. A minimum price only increases the producer surplus, but doesn't solve the supply. Therefore, we would suggest to use a direct payment to farmers or buyout of goods. However, we should be careful with the results of the buyout of goods. In this model we used some assumptions that might change our results. Therefore, a direct payment seems to be the optimal option based on our research. \n",
    "An opportunity for further research is to deal with the problems if we didn't take the assumption of no imports. This might be done with a hotelling model with transporting costs. In that model we could include the effects of import on price and home supply. "
   ]
  },
  {
   "cell_type": "markdown",
   "metadata": {},
   "source": [
    "# Sources \n",
    "\n",
    "The common agricultural policy at a glance. (2022). European Commission - European Commission. Retrieved January 25, 2022, from https://ec.europa.eu/info/food-farming-fisheries/key-policies/common-agricultural-policy/cap-glance_en"
   ]
  },
  {
   "cell_type": "markdown",
   "metadata": {},
   "source": [
    "Everaardt, C. (2021, December 15)Everaardt, C. (2021, December 15). Boeren over regeerakkoord: “Lat stikstofvermindering te hoog, blij dat halvering veestapel van tafel is.” RTV Oost. https://www.rtvoost.nl/nieuws/2040308/Boeren-over-regeerakkoord-Lat-stikstofvermindering-te-hoog-blij-dat-halvering-veestapel-van-tafel-is"
   ]
  },
  {
   "cell_type": "code",
   "execution_count": null,
   "metadata": {},
   "outputs": [],
   "source": []
  }
 ],
 "metadata": {
  "kernelspec": {
   "display_name": "Python 3",
   "language": "python",
   "name": "python3"
  },
  "language_info": {
   "codemirror_mode": {
    "name": "ipython",
    "version": 3
   },
   "file_extension": ".py",
   "mimetype": "text/x-python",
   "name": "python",
   "nbconvert_exporter": "python",
   "pygments_lexer": "ipython3",
   "version": "3.8.6"
  },
  "toc": {
   "base_numbering": 1,
   "nav_menu": {},
   "number_sections": true,
   "sideBar": true,
   "skip_h1_title": false,
   "title_cell": "Table of Contents",
   "title_sidebar": "Contents",
   "toc_cell": false,
   "toc_position": {},
   "toc_section_display": true,
   "toc_window_display": true
  }
 },
 "nbformat": 4,
 "nbformat_minor": 4
}
